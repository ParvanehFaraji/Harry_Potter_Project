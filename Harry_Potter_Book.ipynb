{
 "cells": [
  {
   "cell_type": "code",
   "execution_count": 1,
   "metadata": {},
   "outputs": [
    {
     "ename": "FileNotFoundError",
     "evalue": "[WinError 3] The system cannot find the path specified: 'Harry-Potter'",
     "output_type": "error",
     "traceback": [
      "\u001b[1;31m---------------------------------------------------------------------------\u001b[0m",
      "\u001b[1;31mFileNotFoundError\u001b[0m                         Traceback (most recent call last)",
      "Cell \u001b[1;32mIn[1], line 6\u001b[0m\n\u001b[0;32m      4\u001b[0m file_name \u001b[38;5;241m=\u001b[39m []\n\u001b[0;32m      5\u001b[0m file_address \u001b[38;5;241m=\u001b[39m []\n\u001b[1;32m----> 6\u001b[0m \u001b[38;5;28;01mfor\u001b[39;00m book \u001b[38;5;129;01min\u001b[39;00m \u001b[43mos\u001b[49m\u001b[38;5;241;43m.\u001b[39;49m\u001b[43mlistdir\u001b[49m\u001b[43m(\u001b[49m\u001b[43mpath_to_hp\u001b[49m\u001b[43m)\u001b[49m:\n\u001b[0;32m      7\u001b[0m     \u001b[38;5;28;01mif\u001b[39;00m os\u001b[38;5;241m.\u001b[39mpath\u001b[38;5;241m.\u001b[39misfile(os\u001b[38;5;241m.\u001b[39mpath\u001b[38;5;241m.\u001b[39mjoin(path_to_hp, book)):\n\u001b[0;32m      8\u001b[0m         file_name\u001b[38;5;241m.\u001b[39mappend(book)\n",
      "\u001b[1;31mFileNotFoundError\u001b[0m: [WinError 3] The system cannot find the path specified: 'Harry-Potter'"
     ]
    }
   ],
   "source": [
    "\n",
    "import os \n",
    "characters = ['Sirius Black', 'Fluffy']\n",
    "path_to_hp = 'Harry-Potter' \n",
    "file_name = []\n",
    "file_address = []\n",
    "for book in os.listdir(path_to_hp):\n",
    "    if os.path.isfile(os.path.join(path_to_hp, book)):\n",
    "        file_name.append(book)\n",
    "        file_address.append(os.path.join(path_to_hp,book))\n",
    "    #print(os.path.join(path_to_hp,book))\n",
    "    d = open(os.path.join(path_to_hp,book), 'r',  encoding='utf-8')\n",
    "    book = d.read()\n",
    "    count_list = [0]*len(characters)\n",
    "    for char in characters:\n",
    "        finalcount = count_list.count(char)\n",
    "        print(file_name, finalcount)\n"
   ]
  },
  {
   "cell_type": "code",
   "execution_count": 2,
   "metadata": {},
   "outputs": [
    {
     "ename": "FileNotFoundError",
     "evalue": "[WinError 3] The system cannot find the path specified: 'Harry-Potter'",
     "output_type": "error",
     "traceback": [
      "\u001b[1;31m---------------------------------------------------------------------------\u001b[0m",
      "\u001b[1;31mFileNotFoundError\u001b[0m                         Traceback (most recent call last)",
      "Cell \u001b[1;32mIn[2], line 7\u001b[0m\n\u001b[0;32m      4\u001b[0m file_address \u001b[38;5;241m=\u001b[39m []\n\u001b[0;32m      5\u001b[0m character_counts \u001b[38;5;241m=\u001b[39m {char: \u001b[38;5;241m0\u001b[39m \u001b[38;5;28;01mfor\u001b[39;00m char \u001b[38;5;129;01min\u001b[39;00m characters}\n\u001b[1;32m----> 7\u001b[0m \u001b[38;5;28;01mfor\u001b[39;00m book \u001b[38;5;129;01min\u001b[39;00m \u001b[43mos\u001b[49m\u001b[38;5;241;43m.\u001b[39;49m\u001b[43mlistdir\u001b[49m\u001b[43m(\u001b[49m\u001b[43mpath_to_hp\u001b[49m\u001b[43m)\u001b[49m:\n\u001b[0;32m      8\u001b[0m     \u001b[38;5;28;01mif\u001b[39;00m os\u001b[38;5;241m.\u001b[39mpath\u001b[38;5;241m.\u001b[39misfile(os\u001b[38;5;241m.\u001b[39mpath\u001b[38;5;241m.\u001b[39mjoin(path_to_hp, book)):\n\u001b[0;32m      9\u001b[0m         file_name\u001b[38;5;241m.\u001b[39mappend(book)\n",
      "\u001b[1;31mFileNotFoundError\u001b[0m: [WinError 3] The system cannot find the path specified: 'Harry-Potter'"
     ]
    }
   ],
   "source": [
    "characters = ['Sirius Black', 'Fluffy', 'Ron Weasley', 'Charlie Weasley','Lord Voldemort']\n",
    "path_to_hp = 'Harry-Potter'\n",
    "file_name = []\n",
    "file_address = []\n",
    "character_counts = {char: 0 for char in characters}\n",
    "\n",
    "for book in os.listdir(path_to_hp):\n",
    "    if os.path.isfile(os.path.join(path_to_hp, book)):\n",
    "        file_name.append(book)\n",
    "        file_address.append(os.path.join(path_to_hp, book))\n",
    "        \n",
    "        with open(os.path.join(path_to_hp, book), 'r', encoding='utf-8') as file:\n",
    "            content = file.read()\n",
    "            file_character_counts = {char: content.count(char) for char in characters}\n",
    "            \n",
    "            print(f\"File: {book}\")\n",
    "            print(\"Character Counts:\")\n",
    "            for char, count in file_character_counts.items():\n",
    "                print(f\"{char}: {count}\")\n",
    "            print()"
   ]
  },
  {
   "cell_type": "code",
   "execution_count": null,
   "metadata": {},
   "outputs": [],
   "source": []
  }
 ],
 "metadata": {
  "kernelspec": {
   "display_name": "Python 3 (ipykernel)",
   "language": "python",
   "name": "python3"
  },
  "language_info": {
   "codemirror_mode": {
    "name": "ipython",
    "version": 3
   },
   "file_extension": ".py",
   "mimetype": "text/x-python",
   "name": "python",
   "nbconvert_exporter": "python",
   "pygments_lexer": "ipython3",
   "version": "3.12.4"
  }
 },
 "nbformat": 4,
 "nbformat_minor": 4
}
